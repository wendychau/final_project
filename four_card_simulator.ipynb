{
 "cells": [
  {
   "cell_type": "markdown",
   "metadata": {},
   "source": [
    "Four Card Poker is owned by Shuffle Master"
   ]
  },
  {
   "cell_type": "code",
   "execution_count": 66,
   "metadata": {},
   "outputs": [],
   "source": [
    "import random\n",
    "import operator\n",
    "import pandas as pd\n",
    "import numpy as np\n",
    "from itertools import combinations\n",
    "from collections import Counter, OrderedDict\n",
    "\n",
    "card_value = {\"2\":2, \"3\":3, \"4\":4, \"5\":5, \"6\":6, \"7\":7, \"8\":8, \"9\":9, \"T\":10, \"J\":11, \"Q\":12, \"K\":13, \"A\":14}\n",
    "standard_deck = [\"A♠\",\"K♠\",\"Q♠\",\"J♠\",\"T♠\",\"9♠\",\"8♠\",\"7♠\",\"6♠\",\"5♠\",\"4♠\",\"3♠\",\"2♠\",\n",
    "                 \"A♡\",\"K♡\",\"Q♡\",\"J♡\",\"T♡\",\"9♡\",\"8♡\",\"7♡\",\"6♡\",\"5♡\",\"4♡\",\"3♡\",\"2♡\",\n",
    "                 \"A♣\",\"K♣\",\"Q♣\",\"J♣\",\"T♣\",\"9♣\",\"8♣\",\"7♣\",\"6♣\",\"5♣\",\"4♣\",\"3♣\",\"2♣\",\n",
    "                 \"A♢\",\"K♢\",\"Q♢\",\"J♢\",\"T♢\",\"9♢\",\"8♢\",\"7♢\",\"6♢\",\"5♢\",\"4♢\",\"3♢\",\"2♢\"]"
   ]
  },
  {
   "cell_type": "code",
   "execution_count": 152,
   "metadata": {},
   "outputs": [
    {
     "name": "stdout",
     "output_type": "stream",
     "text": [
      "['K♣', 'A♣', '3♠', 'J♣', '5♡', '8♠', '3♡', '3♣', '2♣', 'J♢', 'T♢', '4♠', 'A♠', '2♡', '5♣', 'A♡', 'Q♣', 'J♡', '9♡', '6♣', '4♢', 'K♠', 'A♢', '8♡', '9♢', 'T♠', '3♢', '9♠', 'Q♢', '8♢', '7♡', '2♢', '5♢', 'Q♡', 'J♠', '7♣', '9♣', 'T♣', '4♡', '6♠', 'Q♠', 'T♡', 'K♢', '6♡', '2♠', '7♢', '8♣', '4♣', '6♢', '7♠', 'K♡', '5♠']\n",
      "------------------------------\n",
      "Your cards: ['K♣', 'A♣', '3♠', 'J♣', '5♡']\n",
      "Dealer's up-card: T♢\n",
      "------------------------------\n",
      "You have __ high ONLY;\n",
      "Your best four cards: []\n",
      "Rank metadata: [2, 14, 13, 11, 5, 3]\n"
     ]
    }
   ],
   "source": [
    "# player chips\n",
    "player_cash = 1000\n",
    "\n",
    "# place initial bets\n",
    "# different bets: aces plus, ante, bad beat\n",
    "\n",
    "# shuffle cards\n",
    "random.shuffle(standard_deck)\n",
    "print(standard_deck)\n",
    "print(\"------------------------------\")\n",
    "\n",
    "\n",
    "# deal cards to player & dealer\n",
    "player_hand = []\n",
    "dealer_hand = []\n",
    "\n",
    "for i in range(0,5):\n",
    "    player_hand.append(standard_deck[i])\n",
    "    \n",
    "for i in range(5,11):\n",
    "    dealer_hand.append(standard_deck[i])\n",
    "\n",
    "\n",
    "# test hands:\n",
    "# player_hand = [\"4♢\", \"8♢\", \"A♢\", \"2♢\", \"3♢\"]\n",
    "# player_hand = [\"3♠\", \"3♣\", \"3♢\", \"3♡\", \"7♢\"]\n",
    "# dealer_hand = [\"J♢\", \"Q♢\", \"10♣\", \"8♢\", \"9♢\", \"4♠\"]\n",
    "\n",
    "\n",
    "# reveal player hand & dealer's up-card\n",
    "print(f\"Your cards: {player_hand}\")\n",
    "print(f\"Dealer's up-card: {dealer_hand[5]}\")\n",
    "print(\"------------------------------\")\n",
    "\n",
    "# analysis\n",
    "player_hand_values = [i[0] for i in player_hand]\n",
    "player_hand_suits = [i[1] for i in player_hand]\n",
    "\n",
    "player_hand_values_unique = []\n",
    "player_hand_suits_unique = []\n",
    "\n",
    "for value in player_hand_values:\n",
    "    if value not in player_hand_values_unique:\n",
    "        player_hand_values_unique.append(value)\n",
    "\n",
    "player_hand_values_unique_descending = sorted(player_hand_values_unique, key= lambda x: card_value.get(x), reverse=True)\n",
    "\"\"\"        \n",
    "print(\"Player hand analysis:\") \n",
    "print(\"------------------------------\")\n",
    "print(\"Values:\")\n",
    "print(f\"{player_hand_values}\")\n",
    "print(f\"(Unique, descending): {player_hand_values_unique_descending}\")\n",
    "print(f\"{Counter(player_hand_values)}\")\n",
    "print(\"------------------------------\")\n",
    "print(\"Suits:\")\n",
    "print(f\"{player_hand_suits}\")\n",
    "print(f\"{Counter(player_hand_suits)}\")\n",
    "\n",
    "print(\"------------------------------\")\n",
    "# player hand RESULTS\n",
    "print(f\"Your cards: {player_hand}\")\n",
    "print(\"------------------------------\")\n",
    "\"\"\"\n",
    "\n",
    "player_hand_best_four = []\n",
    "player_hand_rank = []\n",
    "\n",
    "# four of a kind test - COMPLETE - rank=9\n",
    "if max(Counter(player_hand_values).items(), key=operator.itemgetter(1))[1] == 4:\n",
    "    for i in player_hand:\n",
    "        if i[0] == max(Counter(player_hand_values).items(), key=operator.itemgetter(1))[0]:\n",
    "            player_hand_best_four.append(i)\n",
    "    print(f\"You have 4 of a kind - {max(Counter(player_hand_values).items(), key=operator.itemgetter(1))[0]}'s;\")\n",
    "    player_hand_rank.append(9)\n",
    "    player_hand_rank.append(card_value[max(Counter(player_hand_values).items(), key=operator.itemgetter(1))[0]])\n",
    "    \n",
    "# straight or normal flush test - NEED TO ADD META RANK - sucessfully converted AKQJT to number values\n",
    "# straight flush rank=8\n",
    "# normal flush rank=6\n",
    "elif max(Counter(player_hand_suits).items(), key=operator.itemgetter(1))[1] >= 4:\n",
    "    for i in range(0,5):\n",
    "        if player_hand_suits[i] == max(Counter(player_hand_suits).items(), key=operator.itemgetter(1))[0]:\n",
    "            player_hand_best_four.append(player_hand[i])  \n",
    "    player_hand_best_four.sort(reverse = True)     \n",
    "    if len(player_hand_best_four) == 4:\n",
    "        if card_value[[i[0] for i in player_hand_best_four][0]] - card_value[[i[0] for i in player_hand_best_four][3]] == 3:\n",
    "            print(f\"You have a straight flush;\")\n",
    "            player_hand_rank.append(8)\n",
    "        elif [i[0] for i in player_hand_best_four] == ['A', '4', '3', '2']:\n",
    "            print(f\"You have a straight flush;\")\n",
    "            player_hand_rank.append(8)\n",
    "        else:\n",
    "            print(f\"You have a normal flush;\")\n",
    "            player_hand_rank.append(6)\n",
    "    elif len(player_hand_best_four) > 4:\n",
    "        if card_value[[i[0] for i in player_hand_best_four][0]] - card_value[[i[0] for i in player_hand_best_four][3]] == 3:\n",
    "            player_hand_best_four.pop(4)\n",
    "            print(f\"You have a straight flush;\")\n",
    "            player_hand_rank.append(8)\n",
    "        elif card_value[[i[0] for i in player_hand_best_four][1]] - card_value[[i[0] for i in player_hand_best_four][4]] == 3:\n",
    "            player_hand_best_four.pop(0)\n",
    "            print(f\"You have a straight flush;\")\n",
    "            player_hand_rank.append(8)\n",
    "        elif card_value[[i[0] for i in player_hand_best_four][0]] == 14 and card_value[[i[0] for i in player_hand_best_four][0]] - card_value[[i[0] for i in player_hand_best_four][2]] == 10:\n",
    "            player_hand_best_four.pop(1)\n",
    "            print(f\"You have a straight flush;\")\n",
    "            player_hand_rank.append(8)\n",
    "        else:\n",
    "            print(f\"You have a normal flush;\")\n",
    "            player_hand_rank.append(6)\n",
    "            player_hand_best_four.pop(4)\n",
    "    else:\n",
    "        print(f\"You have a normal flush;\")\n",
    "        player_hand_rank.append(6)\n",
    "\n",
    "# three of a kind test - INCOMPLETE - need to add fourth card to best hand, rank=7\n",
    "elif max(Counter(player_hand_values).items(), key=operator.itemgetter(1))[1] == 3:\n",
    "    for i in player_hand:\n",
    "        if i[0] == max(Counter(player_hand_values).items(), key=operator.itemgetter(1))[0]:\n",
    "            player_hand_best_four.append(i)\n",
    "    print(f\"You have 3 of a kind - {max(Counter(player_hand_values).items(), key=operator.itemgetter(1))[0]}'s;\")\n",
    "    player_hand_rank.append(7)\n",
    "    player_hand_rank.append(card_value[max(Counter(player_hand_values).items(), key=operator.itemgetter(1))[0]])\n",
    "    \n",
    "# normal straight test - INCOMPLETE best cards - rank=5 - else high card rank=2\n",
    "elif len(player_hand_values_unique) >= 4:\n",
    "    if len(player_hand_values_unique) > 4:\n",
    "        if card_value[player_hand_values_unique_descending[0]] - card_value[player_hand_values_unique_descending[3]] == 3:\n",
    "            print(f\"You have a normal straight - # high;\")\n",
    "            player_hand_rank.append(5)\n",
    "        elif card_value[player_hand_values_unique_descending[1]] - card_value[player_hand_values_unique_descending[4]] == 3:\n",
    "            print(f\"You have a normal straight - # high;\")\n",
    "            player_hand_rank.append(5)\n",
    "        else:\n",
    "            print(\"You have __ high ONLY;\")\n",
    "            player_hand_rank.append(2)\n",
    "            for i in range(0,5):\n",
    "                player_hand_rank.append(card_value[player_hand_values_unique_descending[i]])\n",
    "    elif len(player_hand_values_unique) == 4: # else one pair rank=3\n",
    "        if card_value[player_hand_values_unique_descending[0]] - card_value[player_hand_values_unique_descending[3]] == 3:\n",
    "            print(f\"You have a normal straight - # high;\")\n",
    "            player_hand_rank.append(5)\n",
    "        else:\n",
    "            print(\"You have one pair;\")\n",
    "            player_hand_rank.append(3)\n",
    "\n",
    "# all else is two pair rank=4\n",
    "else:\n",
    "    print(\"You have two pair;\")\n",
    "    player_hand_rank.append(4)\n",
    "\n",
    "print(f\"Your best four cards: {player_hand_best_four}\")\n",
    "print(f\"Rank metadata: {player_hand_rank}\")"
   ]
  },
  {
   "cell_type": "code",
   "execution_count": 153,
   "metadata": {},
   "outputs": [
    {
     "name": "stdout",
     "output_type": "stream",
     "text": [
      "Dealer's cards: ['8♠', '3♡', '3♣', '2♣', 'J♢', 'T♢']\n"
     ]
    }
   ],
   "source": [
    "# DEALER TESTING\n",
    "print(f\"Dealer's cards: {dealer_hand}\")"
   ]
  },
  {
   "cell_type": "code",
   "execution_count": 104,
   "metadata": {},
   "outputs": [
    {
     "data": {
      "text/plain": [
       "10"
      ]
     },
     "execution_count": 104,
     "metadata": {},
     "output_type": "execute_result"
    }
   ],
   "source": [
    "card_value[[i[0] for i in player_hand_best_four][0]] - card_value[[i[0] for i in player_hand_best_four][2]]"
   ]
  },
  {
   "cell_type": "code",
   "execution_count": null,
   "metadata": {},
   "outputs": [],
   "source": [
    "# TESTING how to add best four cards for straight\n",
    "\n",
    "player_hand_values = [i[0] for i in player_hand]"
   ]
  },
  {
   "cell_type": "code",
   "execution_count": 276,
   "metadata": {},
   "outputs": [],
   "source": [
    "# two pair rank=5\n",
    "potential_pairs = []\n",
    "\n"
   ]
  },
  {
   "cell_type": "code",
   "execution_count": null,
   "metadata": {},
   "outputs": [],
   "source": [
    "# two pair test"
   ]
  }
 ],
 "metadata": {
  "kernelspec": {
   "display_name": "Python 3",
   "language": "python",
   "name": "python3"
  },
  "language_info": {
   "codemirror_mode": {
    "name": "ipython",
    "version": 3
   },
   "file_extension": ".py",
   "mimetype": "text/x-python",
   "name": "python",
   "nbconvert_exporter": "python",
   "pygments_lexer": "ipython3",
   "version": "3.7.1"
  }
 },
 "nbformat": 4,
 "nbformat_minor": 2
}
