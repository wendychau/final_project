{
 "cells": [
  {
   "cell_type": "markdown",
   "metadata": {},
   "source": [
    "Four Card Poker is owned by Shuffle Master"
   ]
  },
  {
   "cell_type": "code",
   "execution_count": 241,
   "metadata": {},
   "outputs": [],
   "source": [
    "import random\n",
    "import operator\n",
    "import pandas as pd\n",
    "import numpy as np\n",
    "from itertools import combinations\n",
    "from collections import Counter, OrderedDict\n",
    "\n",
    "card_value = {\"2\":2, \"3\":3, \"4\":4, \"5\":5, \"6\":6, \"7\":7, \"8\":8, \"9\":9, \"T\":10, \"J\":11, \"Q\":12, \"K\":13, \"A\":14}\n",
    "standard_deck = [\"A♠\",\"K♠\",\"Q♠\",\"J♠\",\"T♠\",\"9♠\",\"8♠\",\"7♠\",\"6♠\",\"5♠\",\"4♠\",\"3♠\",\"2♠\",\n",
    "                 \"A♡\",\"K♡\",\"Q♡\",\"J♡\",\"T♡\",\"9♡\",\"8♡\",\"7♡\",\"6♡\",\"5♡\",\"4♡\",\"3♡\",\"2♡\",\n",
    "                 \"A♣\",\"K♣\",\"Q♣\",\"J♣\",\"T♣\",\"9♣\",\"8♣\",\"7♣\",\"6♣\",\"5♣\",\"4♣\",\"3♣\",\"2♣\",\n",
    "                 \"A♢\",\"K♢\",\"Q♢\",\"J♢\",\"T♢\",\"9♢\",\"8♢\",\"7♢\",\"6♢\",\"5♢\",\"4♢\",\"3♢\",\"2♢\"]"
   ]
  },
  {
   "cell_type": "code",
   "execution_count": null,
   "metadata": {},
   "outputs": [],
   "source": [
    "# player chips\n",
    "player_cash = 1000\n",
    "\n",
    "# place initial bets\n",
    "# different bets: aces plus, ante, bad beat\n",
    "\n"
   ]
  },
  {
   "cell_type": "code",
   "execution_count": 286,
   "metadata": {},
   "outputs": [
    {
     "name": "stdout",
     "output_type": "stream",
     "text": [
      "Your cards, sorted: ['3♠', '3♣', '3♢', '3♡', '7♢']\n",
      "Dealer's up-card: 4♠\n"
     ]
    }
   ],
   "source": [
    "# shuffle cards\n",
    "# deal cards to player & dealer\n",
    "\n",
    "# reveal player hand & dealer's up-card\n",
    "\n",
    "player_hand = [\"6♢\", \"2♢\", \"8♢\", \"3♢\", \"9♢\"]\n",
    "player_hand = [\"3♠\", \"3♣\", \"3♢\", \"3♡\", \"7♢\"]\n",
    "\n",
    "dealer_hand = [\"J♢\", \"Q♢\", \"10♣\", \"8♢\", \"9♢\", \"4♠\"]\n",
    "print(f\"Your cards, sorted: {player_hand}\")\n",
    "print(f\"Dealer's up-card: {dealer_hand[5]}\")\n"
   ]
  },
  {
   "cell_type": "code",
   "execution_count": 287,
   "metadata": {},
   "outputs": [
    {
     "name": "stdout",
     "output_type": "stream",
     "text": [
      "Player hand analysis:\n",
      "------------------------------\n",
      "Values:\n",
      "['3', '3', '3', '3', '7']\n",
      "(Unique, descending): ['7', '3']\n",
      "------------------------------\n",
      "Suits:\n",
      "['♠', '♣', '♢', '♡', '♢']\n",
      "Counter({'♢': 2, '♠': 1, '♣': 1, '♡': 1})\n"
     ]
    }
   ],
   "source": [
    "player_hand_values = [i[0] for i in player_hand]\n",
    "player_hand_suits = [i[1] for i in player_hand]\n",
    "\n",
    "player_hand_values_unique = []\n",
    "player_hand_suits_unique = []\n",
    "\n",
    "for value in player_hand_values:\n",
    "    if value not in player_hand_values_unique:\n",
    "        player_hand_values_unique.append(value)\n",
    "player_hand_values_unique.sort(reverse = True)\n",
    "        \n",
    "print(\"Player hand analysis:\") \n",
    "print(\"------------------------------\")\n",
    "print(\"Values:\")\n",
    "print(f\"{player_hand_values}\")\n",
    "\n",
    "print(f\"(Unique, descending): {player_hand_values_unique}\")\n",
    "print(\"------------------------------\")\n",
    "print(\"Suits:\")\n",
    "print(f\"{player_hand_suits}\")\n",
    "\n",
    "print(f\"{Counter(player_hand_suits)}\")\n"
   ]
  },
  {
   "cell_type": "code",
   "execution_count": 289,
   "metadata": {},
   "outputs": [
    {
     "name": "stdout",
     "output_type": "stream",
     "text": [
      "You have 4 of a kind - 3's;\n",
      "Your best four cards: ['3♠', '3♣', '3♢', '3♡']\n",
      "Rank metadata: [9, 3]\n"
     ]
    }
   ],
   "source": [
    "player_hand_best_four = []\n",
    "player_hand_rank = []\n",
    "\n",
    "# four of a kind test - COMPLETE - rank=9\n",
    "if max(Counter(player_hand_values).items(), key=operator.itemgetter(1))[1] == 4:\n",
    "    for i in player_hand:\n",
    "        if i[0] == max(Counter(player_hand_values).items(), key=operator.itemgetter(1))[0]:\n",
    "            player_hand_best_four.append(i)\n",
    "    print(f\"You have 4 of a kind - {max(Counter(player_hand_values).items(), key=operator.itemgetter(1))[0]}'s;\")\n",
    "    player_hand_rank.append(9)\n",
    "    player_hand_rank.append(int(max(Counter(player_hand_values).items(), key=operator.itemgetter(1))[0]))\n",
    "    \n",
    "# straight or normal flush test - INCOMPLETE - need to convert AKQJT to number values\n",
    "# straight flush rank=8\n",
    "# normal flush rank=6\n",
    "elif max(Counter(player_hand_suits).items(), key=operator.itemgetter(1))[1] >= 4:\n",
    "    for i in range(0,5):\n",
    "        if player_hand_suits[i] == max(Counter(player_hand_suits).items(), key=operator.itemgetter(1))[0]:\n",
    "            player_hand_best_four.append(player_hand[i])  \n",
    "    player_hand_best_four.sort(reverse = True)     \n",
    "    if len(player_hand_best_four) == 4:\n",
    "        if int([i[0] for i in player_hand_best_four][0]) - int([i[0] for i in player_hand_best_four][3]) == 3:\n",
    "            print(f\"You have a straight flush;\")\n",
    "        else: print(f\"You have a normal flush;\")\n",
    "    elif len(player_hand_best_four) > 4:\n",
    "        if int([i[0] for i in player_hand_best_four][0]) - int([i[0] for i in player_hand_best_four][3]) == 3:\n",
    "            player_hand_best_four.pop(4)\n",
    "            print(f\"You have a straight flush;\")\n",
    "        elif int([i[0] for i in player_hand_best_four][1]) - int([i[0] for i in player_hand_best_four][4]) == 3:\n",
    "            player_hand_best_four.pop(0)\n",
    "            print(f\"You have a straight flush;\")\n",
    "        else: print(f\"You have a normal flush;\")\n",
    "        player_hand_best_four.pop(4)\n",
    "    else: print(f\"You have a normal flush;\")\n",
    "\n",
    "# three of a kind test - INCOMPLETE - need to add fourth card to best hand, rank=7\n",
    "elif max(Counter(player_hand_values).items(), key=operator.itemgetter(1))[1] == 3:\n",
    "    for i in player_hand:\n",
    "        if i[0] == max(Counter(player_hand_values).items(), key=operator.itemgetter(1))[0]:\n",
    "            player_hand_best_four.append(i)\n",
    "    print(f\"You have 3 of a kind - {max(Counter(player_hand_values).items(), key=operator.itemgetter(1))[0]}'s\")   \n",
    "    \n",
    "  \n",
    "    \n",
    "print(f\"Your best four cards: {player_hand_best_four}\")\n",
    "print(f\"Rank metadata: {player_hand_rank}\")"
   ]
  },
  {
   "cell_type": "code",
   "execution_count": null,
   "metadata": {},
   "outputs": [],
   "source": []
  },
  {
   "cell_type": "code",
   "execution_count": 278,
   "metadata": {},
   "outputs": [
    {
     "data": {
      "text/plain": [
       "['8♡', '7♢', '6♣', '3♢', '3♠']"
      ]
     },
     "execution_count": 278,
     "metadata": {},
     "output_type": "execute_result"
    }
   ],
   "source": [
    "player_hand_test = [\"3♠\", \"6♣\", \"3♢\", \"8♡\", \"7♢\"]\n",
    "player_hand_test.sort(reverse = True)\n",
    "player_hand_test"
   ]
  },
  {
   "cell_type": "code",
   "execution_count": 276,
   "metadata": {},
   "outputs": [],
   "source": [
    "# two pair & one pair test\n",
    "potential_pairs = []\n",
    "\n"
   ]
  },
  {
   "cell_type": "code",
   "execution_count": null,
   "metadata": {},
   "outputs": [],
   "source": [
    "# two pair test"
   ]
  }
 ],
 "metadata": {
  "kernelspec": {
   "display_name": "Python 3",
   "language": "python",
   "name": "python3"
  },
  "language_info": {
   "codemirror_mode": {
    "name": "ipython",
    "version": 3
   },
   "file_extension": ".py",
   "mimetype": "text/x-python",
   "name": "python",
   "nbconvert_exporter": "python",
   "pygments_lexer": "ipython3",
   "version": "3.7.1"
  }
 },
 "nbformat": 4,
 "nbformat_minor": 2
}
